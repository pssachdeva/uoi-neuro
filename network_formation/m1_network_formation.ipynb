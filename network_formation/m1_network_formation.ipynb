{
 "cells": [
  {
   "cell_type": "code",
   "execution_count": 1,
   "metadata": {},
   "outputs": [],
   "source": [
    "import numpy as np\n",
    "import h5py\n",
    "import matplotlib.pyplot as plt\n",
    "%matplotlib inline\n",
    "import os\n",
    "import time\n",
    "\n",
    "from UoI_Lasso import UoI_Lasso\n",
    "from sklearn.linear_model import LassoCV\n",
    "from sklearn.model_selection import train_test_split\n",
    "from sklearn.metrics import r2_score"
   ]
  },
  {
   "cell_type": "code",
   "execution_count": 3,
   "metadata": {},
   "outputs": [],
   "source": [
    "results = h5py.File('nhp_reaches.hdf5', 'r')"
   ]
  },
  {
   "cell_type": "code",
   "execution_count": 4,
   "metadata": {},
   "outputs": [],
   "source": [
    "data = results['indy_20160407_02']\n",
    "m1 = data['M1']"
   ]
  },
  {
   "cell_type": "code",
   "execution_count": 5,
   "metadata": {},
   "outputs": [],
   "source": [
    "Y = np.sqrt(m1['spikes'][:])\n",
    "n_neurons = Y.shape[1]\n",
    "n_reps = 10"
   ]
  },
  {
   "cell_type": "code",
   "execution_count": 6,
   "metadata": {},
   "outputs": [],
   "source": [
    "# create storage\n",
    "coupling_coefs_lasso = np.zeros((n_neurons, n_reps, n_neurons))\n",
    "coupling_coefs_uoi = np.zeros((n_neurons, n_reps, n_neurons))\n",
    "\n",
    "intercepts_lasso = np.zeros((n_neurons, n_reps))\n",
    "intercepts_uoi = np.zeros((n_neurons, n_reps))\n",
    "\n",
    "# r2, bic, aic\n",
    "r2_lasso = np.zeros((n_neurons, n_reps))\n",
    "bic_lasso = np.zeros((n_neurons, n_reps))\n",
    "r2_uoi = np.zeros((n_neurons, n_reps))\n",
    "bic_uoi = np.zeros((n_neurons, n_reps))"
   ]
  },
  {
   "cell_type": "code",
   "execution_count": 7,
   "metadata": {},
   "outputs": [
    {
     "name": "stdout",
     "output_type": "stream",
     "text": [
      "0\n",
      "---> 0\n",
      "---> 1\n",
      "---> 2\n",
      "---> 3\n",
      "---> 4\n",
      "---> 5\n",
      "---> 6\n",
      "---> 7\n",
      "---> 8\n",
      "---> 9\n",
      "1\n",
      "---> 0\n",
      "---> 1\n",
      "---> 2\n",
      "---> 3\n",
      "---> 4\n",
      "---> 5\n",
      "---> 6\n",
      "---> 7\n",
      "---> 8\n",
      "---> 9\n",
      "2\n",
      "---> 0\n",
      "---> 1\n",
      "---> 2\n",
      "---> 3\n",
      "---> 4\n",
      "---> 5\n",
      "---> 6\n",
      "---> 7\n",
      "---> 8\n",
      "---> 9\n",
      "3\n",
      "---> 0\n",
      "---> 1\n",
      "---> 2\n",
      "---> 3\n",
      "---> 4\n",
      "---> 5\n",
      "---> 6\n",
      "---> 7\n",
      "---> 8\n",
      "---> 9\n",
      "4\n",
      "---> 0\n",
      "---> 1\n",
      "---> 2\n",
      "---> 3\n",
      "---> 4\n",
      "---> 5\n",
      "---> 6\n",
      "---> 7\n",
      "---> 8\n",
      "---> 9\n",
      "5\n",
      "---> 0\n",
      "---> 1\n",
      "---> 2\n",
      "---> 3\n",
      "---> 4\n",
      "---> 5\n",
      "---> 6\n",
      "---> 7\n",
      "---> 8\n",
      "---> 9\n",
      "6\n",
      "---> 0\n",
      "---> 1\n",
      "---> 2\n",
      "---> 3\n",
      "---> 4\n",
      "---> 5\n",
      "---> 6\n",
      "---> 7\n",
      "---> 8\n",
      "---> 9\n",
      "7\n",
      "---> 0\n",
      "---> 1\n",
      "---> 2\n",
      "---> 3\n",
      "---> 4\n",
      "---> 5\n",
      "---> 6\n",
      "---> 7\n",
      "---> 8\n",
      "---> 9\n",
      "8\n",
      "---> 0\n",
      "---> 1\n",
      "---> 2\n",
      "---> 3\n",
      "---> 4\n",
      "---> 5\n",
      "---> 6\n",
      "---> 7\n",
      "---> 8\n",
      "---> 9\n",
      "9\n",
      "---> 0\n",
      "---> 1\n",
      "---> 2\n",
      "---> 3\n",
      "---> 4\n",
      "---> 5\n",
      "---> 6\n",
      "---> 7\n",
      "---> 8\n",
      "---> 9\n",
      "10\n",
      "---> 0\n",
      "---> 1\n",
      "---> 2\n",
      "---> 3\n",
      "---> 4\n",
      "---> 5\n",
      "---> 6\n",
      "---> 7\n",
      "---> 8\n",
      "---> 9\n",
      "11\n",
      "---> 0\n",
      "---> 1\n",
      "---> 2\n",
      "---> 3\n",
      "---> 4\n",
      "---> 5\n",
      "---> 6\n",
      "---> 7\n",
      "---> 8\n",
      "---> 9\n",
      "12\n",
      "---> 0\n",
      "---> 1\n",
      "---> 2\n",
      "---> 3\n",
      "---> 4\n",
      "---> 5\n",
      "---> 6\n",
      "---> 7\n",
      "---> 8\n",
      "---> 9\n",
      "13\n",
      "---> 0\n",
      "---> 1\n",
      "---> 2\n",
      "---> 3\n",
      "---> 4\n",
      "---> 5\n",
      "---> 6\n",
      "---> 7\n",
      "---> 8\n",
      "---> 9\n",
      "14\n",
      "---> 0\n",
      "---> 1\n",
      "---> 2\n",
      "---> 3\n",
      "---> 4\n",
      "---> 5\n",
      "---> 6\n",
      "---> 7\n",
      "---> 8\n",
      "---> 9\n",
      "15\n",
      "---> 0\n",
      "---> 1\n",
      "---> 2\n",
      "---> 3\n",
      "---> 4\n",
      "---> 5\n",
      "---> 6\n",
      "---> 7\n",
      "---> 8\n",
      "---> 9\n",
      "16\n",
      "---> 0\n",
      "---> 1\n",
      "---> 2\n",
      "---> 3\n",
      "---> 4\n",
      "---> 5\n",
      "---> 6\n",
      "---> 7\n",
      "---> 8\n",
      "---> 9\n",
      "17\n",
      "---> 0\n",
      "---> 1\n",
      "---> 2\n",
      "---> 3\n",
      "---> 4\n",
      "---> 5\n",
      "---> 6\n",
      "---> 7\n",
      "---> 8\n",
      "---> 9\n",
      "18\n",
      "---> 0\n",
      "---> 1\n",
      "---> 2\n",
      "---> 3\n",
      "---> 4\n",
      "---> 5\n",
      "---> 6\n",
      "---> 7\n",
      "---> 8\n",
      "---> 9\n",
      "19\n",
      "---> 0\n",
      "---> 1\n",
      "---> 2\n",
      "---> 3\n",
      "---> 4\n",
      "---> 5\n",
      "---> 6\n",
      "---> 7\n",
      "---> 8\n",
      "---> 9\n",
      "20\n",
      "---> 0\n",
      "---> 1\n",
      "---> 2\n",
      "---> 3\n",
      "---> 4\n",
      "---> 5\n",
      "---> 6\n",
      "---> 7\n",
      "---> 8\n",
      "---> 9\n",
      "21\n",
      "---> 0\n",
      "---> 1\n",
      "---> 2\n",
      "---> 3\n",
      "---> 4\n",
      "---> 5\n",
      "---> 6\n",
      "---> 7\n",
      "---> 8\n",
      "---> 9\n",
      "22\n",
      "---> 0\n",
      "---> 1\n",
      "---> 2\n",
      "---> 3\n",
      "---> 4\n",
      "---> 5\n",
      "---> 6\n",
      "---> 7\n",
      "---> 8\n",
      "---> 9\n",
      "23\n",
      "---> 0\n",
      "---> 1\n",
      "---> 2\n",
      "---> 3\n",
      "---> 4\n",
      "---> 5\n",
      "---> 6\n",
      "---> 7\n",
      "---> 8\n",
      "---> 9\n",
      "24\n",
      "---> 0\n",
      "---> 1\n",
      "---> 2\n",
      "---> 3\n",
      "---> 4\n",
      "---> 5\n",
      "---> 6\n",
      "---> 7\n",
      "---> 8\n",
      "---> 9\n",
      "25\n",
      "---> 0\n",
      "---> 1\n",
      "---> 2\n",
      "---> 3\n",
      "---> 4\n",
      "---> 5\n",
      "---> 6\n",
      "---> 7\n",
      "---> 8\n",
      "---> 9\n",
      "26\n",
      "---> 0\n",
      "---> 1\n",
      "---> 2\n",
      "---> 3\n",
      "---> 4\n",
      "---> 5\n",
      "---> 6\n",
      "---> 7\n",
      "---> 8\n",
      "---> 9\n",
      "27\n",
      "---> 0\n",
      "---> 1\n",
      "---> 2\n",
      "---> 3\n",
      "---> 4\n",
      "---> 5\n",
      "---> 6\n",
      "---> 7\n",
      "---> 8\n",
      "---> 9\n",
      "28\n",
      "---> 0\n",
      "---> 1\n",
      "---> 2\n",
      "---> 3\n",
      "---> 4\n",
      "---> 5\n",
      "---> 6\n",
      "---> 7\n",
      "---> 8\n",
      "---> 9\n",
      "29\n",
      "---> 0\n",
      "---> 1\n",
      "---> 2\n",
      "---> 3\n",
      "---> 4\n",
      "---> 5\n",
      "---> 6\n",
      "---> 7\n",
      "---> 8\n",
      "---> 9\n",
      "30\n",
      "---> 0\n",
      "---> 1\n",
      "---> 2\n",
      "---> 3\n",
      "---> 4\n",
      "---> 5\n",
      "---> 6\n",
      "---> 7\n",
      "---> 8\n",
      "---> 9\n",
      "31\n",
      "---> 0\n"
     ]
    },
    {
     "name": "stderr",
     "output_type": "stream",
     "text": [
      "/anaconda3/lib/python3.6/site-packages/ipykernel/__main__.py:15: RuntimeWarning: divide by zero encountered in log\n"
     ]
    },
    {
     "name": "stdout",
     "output_type": "stream",
     "text": [
      "---> 1\n"
     ]
    },
    {
     "name": "stderr",
     "output_type": "stream",
     "text": [
      "/anaconda3/lib/python3.6/site-packages/ipykernel/__main__.py:15: RuntimeWarning: divide by zero encountered in log\n"
     ]
    },
    {
     "name": "stdout",
     "output_type": "stream",
     "text": [
      "---> 2\n"
     ]
    },
    {
     "name": "stderr",
     "output_type": "stream",
     "text": [
      "/anaconda3/lib/python3.6/site-packages/ipykernel/__main__.py:15: RuntimeWarning: divide by zero encountered in log\n"
     ]
    },
    {
     "name": "stdout",
     "output_type": "stream",
     "text": [
      "---> 3\n"
     ]
    },
    {
     "name": "stderr",
     "output_type": "stream",
     "text": [
      "/anaconda3/lib/python3.6/site-packages/ipykernel/__main__.py:15: RuntimeWarning: divide by zero encountered in log\n"
     ]
    },
    {
     "name": "stdout",
     "output_type": "stream",
     "text": [
      "---> 4\n"
     ]
    },
    {
     "name": "stderr",
     "output_type": "stream",
     "text": [
      "/anaconda3/lib/python3.6/site-packages/ipykernel/__main__.py:15: RuntimeWarning: divide by zero encountered in log\n"
     ]
    },
    {
     "name": "stdout",
     "output_type": "stream",
     "text": [
      "---> 5\n"
     ]
    },
    {
     "name": "stderr",
     "output_type": "stream",
     "text": [
      "/anaconda3/lib/python3.6/site-packages/ipykernel/__main__.py:15: RuntimeWarning: divide by zero encountered in log\n"
     ]
    },
    {
     "name": "stdout",
     "output_type": "stream",
     "text": [
      "---> 6\n"
     ]
    },
    {
     "name": "stderr",
     "output_type": "stream",
     "text": [
      "/anaconda3/lib/python3.6/site-packages/ipykernel/__main__.py:15: RuntimeWarning: divide by zero encountered in log\n"
     ]
    },
    {
     "name": "stdout",
     "output_type": "stream",
     "text": [
      "---> 7\n"
     ]
    },
    {
     "name": "stderr",
     "output_type": "stream",
     "text": [
      "/anaconda3/lib/python3.6/site-packages/ipykernel/__main__.py:15: RuntimeWarning: divide by zero encountered in log\n"
     ]
    },
    {
     "name": "stdout",
     "output_type": "stream",
     "text": [
      "---> 8\n"
     ]
    },
    {
     "name": "stderr",
     "output_type": "stream",
     "text": [
      "/anaconda3/lib/python3.6/site-packages/ipykernel/__main__.py:15: RuntimeWarning: divide by zero encountered in log\n"
     ]
    },
    {
     "name": "stdout",
     "output_type": "stream",
     "text": [
      "---> 9\n"
     ]
    },
    {
     "name": "stderr",
     "output_type": "stream",
     "text": [
      "/anaconda3/lib/python3.6/site-packages/ipykernel/__main__.py:15: RuntimeWarning: divide by zero encountered in log\n"
     ]
    },
    {
     "name": "stdout",
     "output_type": "stream",
     "text": [
      "32\n",
      "---> 0\n",
      "---> 1\n",
      "---> 2\n",
      "---> 3\n",
      "---> 4\n",
      "---> 5\n",
      "---> 6\n",
      "---> 7\n",
      "---> 8\n",
      "---> 9\n",
      "33\n",
      "---> 0\n",
      "---> 1\n",
      "---> 2\n",
      "---> 3\n",
      "---> 4\n",
      "---> 5\n",
      "---> 6\n",
      "---> 7\n",
      "---> 8\n",
      "---> 9\n",
      "34\n",
      "---> 0\n",
      "---> 1\n",
      "---> 2\n",
      "---> 3\n",
      "---> 4\n",
      "---> 5\n",
      "---> 6\n",
      "---> 7\n",
      "---> 8\n",
      "---> 9\n",
      "35\n",
      "---> 0\n",
      "---> 1\n",
      "---> 2\n",
      "---> 3\n",
      "---> 4\n",
      "---> 5\n",
      "---> 6\n",
      "---> 7\n",
      "---> 8\n",
      "---> 9\n",
      "36\n",
      "---> 0\n",
      "---> 1\n",
      "---> 2\n",
      "---> 3\n",
      "---> 4\n",
      "---> 5\n",
      "---> 6\n",
      "---> 7\n",
      "---> 8\n",
      "---> 9\n",
      "37\n",
      "---> 0\n",
      "---> 1\n",
      "---> 2\n",
      "---> 3\n",
      "---> 4\n",
      "---> 5\n",
      "---> 6\n",
      "---> 7\n",
      "---> 8\n",
      "---> 9\n",
      "38\n",
      "---> 0\n",
      "---> 1\n",
      "---> 2\n",
      "---> 3\n",
      "---> 4\n",
      "---> 5\n",
      "---> 6\n",
      "---> 7\n",
      "---> 8\n",
      "---> 9\n",
      "39\n",
      "---> 0\n",
      "---> 1\n",
      "---> 2\n",
      "---> 3\n",
      "---> 4\n",
      "---> 5\n",
      "---> 6\n",
      "---> 7\n",
      "---> 8\n",
      "---> 9\n",
      "40\n",
      "---> 0\n",
      "---> 1\n",
      "---> 2\n",
      "---> 3\n",
      "---> 4\n",
      "---> 5\n",
      "---> 6\n",
      "---> 7\n",
      "---> 8\n",
      "---> 9\n",
      "41\n",
      "---> 0\n",
      "---> 1\n",
      "---> 2\n",
      "---> 3\n",
      "---> 4\n",
      "---> 5\n",
      "---> 6\n",
      "---> 7\n",
      "---> 8\n",
      "---> 9\n",
      "42\n",
      "---> 0\n",
      "---> 1\n",
      "---> 2\n",
      "---> 3\n",
      "---> 4\n",
      "---> 5\n",
      "---> 6\n",
      "---> 7\n",
      "---> 8\n",
      "---> 9\n",
      "43\n",
      "---> 0\n",
      "---> 1\n",
      "---> 2\n",
      "---> 3\n",
      "---> 4\n",
      "---> 5\n",
      "---> 6\n",
      "---> 7\n",
      "---> 8\n",
      "---> 9\n",
      "44\n",
      "---> 0\n",
      "---> 1\n",
      "---> 2\n",
      "---> 3\n",
      "---> 4\n",
      "---> 5\n",
      "---> 6\n",
      "---> 7\n",
      "---> 8\n",
      "---> 9\n",
      "45\n",
      "---> 0\n",
      "---> 1\n",
      "---> 2\n",
      "---> 3\n",
      "---> 4\n",
      "---> 5\n",
      "---> 6\n",
      "---> 7\n",
      "---> 8\n",
      "---> 9\n",
      "46\n",
      "---> 0\n"
     ]
    },
    {
     "name": "stderr",
     "output_type": "stream",
     "text": [
      "/anaconda3/lib/python3.6/site-packages/ipykernel/__main__.py:15: RuntimeWarning: divide by zero encountered in log\n"
     ]
    },
    {
     "name": "stdout",
     "output_type": "stream",
     "text": [
      "---> 1\n"
     ]
    },
    {
     "name": "stderr",
     "output_type": "stream",
     "text": [
      "/anaconda3/lib/python3.6/site-packages/ipykernel/__main__.py:15: RuntimeWarning: divide by zero encountered in log\n"
     ]
    },
    {
     "name": "stdout",
     "output_type": "stream",
     "text": [
      "---> 2\n"
     ]
    },
    {
     "name": "stderr",
     "output_type": "stream",
     "text": [
      "/anaconda3/lib/python3.6/site-packages/ipykernel/__main__.py:15: RuntimeWarning: divide by zero encountered in log\n"
     ]
    },
    {
     "name": "stdout",
     "output_type": "stream",
     "text": [
      "---> 3\n"
     ]
    },
    {
     "name": "stderr",
     "output_type": "stream",
     "text": [
      "/anaconda3/lib/python3.6/site-packages/ipykernel/__main__.py:15: RuntimeWarning: divide by zero encountered in log\n"
     ]
    },
    {
     "name": "stdout",
     "output_type": "stream",
     "text": [
      "---> 4\n"
     ]
    },
    {
     "name": "stderr",
     "output_type": "stream",
     "text": [
      "/anaconda3/lib/python3.6/site-packages/ipykernel/__main__.py:15: RuntimeWarning: divide by zero encountered in log\n"
     ]
    },
    {
     "name": "stdout",
     "output_type": "stream",
     "text": [
      "---> 5\n"
     ]
    },
    {
     "name": "stderr",
     "output_type": "stream",
     "text": [
      "/anaconda3/lib/python3.6/site-packages/ipykernel/__main__.py:15: RuntimeWarning: divide by zero encountered in log\n"
     ]
    },
    {
     "name": "stdout",
     "output_type": "stream",
     "text": [
      "---> 6\n"
     ]
    },
    {
     "name": "stderr",
     "output_type": "stream",
     "text": [
      "/anaconda3/lib/python3.6/site-packages/ipykernel/__main__.py:15: RuntimeWarning: divide by zero encountered in log\n"
     ]
    },
    {
     "name": "stdout",
     "output_type": "stream",
     "text": [
      "---> 7\n"
     ]
    },
    {
     "name": "stderr",
     "output_type": "stream",
     "text": [
      "/anaconda3/lib/python3.6/site-packages/ipykernel/__main__.py:15: RuntimeWarning: divide by zero encountered in log\n"
     ]
    },
    {
     "name": "stdout",
     "output_type": "stream",
     "text": [
      "---> 8\n"
     ]
    },
    {
     "name": "stderr",
     "output_type": "stream",
     "text": [
      "/anaconda3/lib/python3.6/site-packages/ipykernel/__main__.py:15: RuntimeWarning: divide by zero encountered in log\n"
     ]
    },
    {
     "name": "stdout",
     "output_type": "stream",
     "text": [
      "---> 9\n"
     ]
    },
    {
     "name": "stderr",
     "output_type": "stream",
     "text": [
      "/anaconda3/lib/python3.6/site-packages/ipykernel/__main__.py:15: RuntimeWarning: divide by zero encountered in log\n"
     ]
    },
    {
     "name": "stdout",
     "output_type": "stream",
     "text": [
      "47\n",
      "---> 0\n",
      "---> 1\n",
      "---> 2\n",
      "---> 3\n",
      "---> 4\n",
      "---> 5\n",
      "---> 6\n",
      "---> 7\n",
      "---> 8\n",
      "---> 9\n",
      "48\n",
      "---> 0\n",
      "---> 1\n",
      "---> 2\n",
      "---> 3\n",
      "---> 4\n",
      "---> 5\n",
      "---> 6\n",
      "---> 7\n",
      "---> 8\n",
      "---> 9\n",
      "49\n",
      "---> 0\n",
      "---> 1\n",
      "---> 2\n",
      "---> 3\n",
      "---> 4\n",
      "---> 5\n",
      "---> 6\n",
      "---> 7\n",
      "---> 8\n",
      "---> 9\n",
      "50\n",
      "---> 0\n",
      "---> 1\n",
      "---> 2\n",
      "---> 3\n",
      "---> 4\n",
      "---> 5\n",
      "---> 6\n",
      "---> 7\n",
      "---> 8\n",
      "---> 9\n",
      "51\n",
      "---> 0\n",
      "---> 1\n",
      "---> 2\n",
      "---> 3\n",
      "---> 4\n",
      "---> 5\n",
      "---> 6\n",
      "---> 7\n",
      "---> 8\n",
      "---> 9\n",
      "52\n",
      "---> 0\n",
      "---> 1\n",
      "---> 2\n",
      "---> 3\n",
      "---> 4\n",
      "---> 5\n",
      "---> 6\n",
      "---> 7\n",
      "---> 8\n",
      "---> 9\n",
      "53\n",
      "---> 0\n",
      "---> 1\n",
      "---> 2\n",
      "---> 3\n",
      "---> 4\n",
      "---> 5\n",
      "---> 6\n",
      "---> 7\n",
      "---> 8\n",
      "---> 9\n",
      "54\n",
      "---> 0\n",
      "---> 1\n",
      "---> 2\n",
      "---> 3\n",
      "---> 4\n",
      "---> 5\n",
      "---> 6\n",
      "---> 7\n",
      "---> 8\n",
      "---> 9\n",
      "55\n",
      "---> 0\n",
      "---> 1\n",
      "---> 2\n",
      "---> 3\n",
      "---> 4\n",
      "---> 5\n",
      "---> 6\n",
      "---> 7\n",
      "---> 8\n",
      "---> 9\n",
      "56\n",
      "---> 0\n",
      "---> 1\n",
      "---> 2\n",
      "---> 3\n",
      "---> 4\n",
      "---> 5\n",
      "---> 6\n",
      "---> 7\n",
      "---> 8\n",
      "---> 9\n",
      "57\n",
      "---> 0\n",
      "---> 1\n",
      "---> 2\n",
      "---> 3\n",
      "---> 4\n",
      "---> 5\n",
      "---> 6\n",
      "---> 7\n",
      "---> 8\n",
      "---> 9\n",
      "58\n",
      "---> 0\n",
      "---> 1\n",
      "---> 2\n",
      "---> 3\n",
      "---> 4\n",
      "---> 5\n",
      "---> 6\n",
      "---> 7\n",
      "---> 8\n",
      "---> 9\n",
      "59\n",
      "---> 0\n",
      "---> 1\n",
      "---> 2\n",
      "---> 3\n",
      "---> 4\n",
      "---> 5\n",
      "---> 6\n",
      "---> 7\n",
      "---> 8\n",
      "---> 9\n",
      "60\n",
      "---> 0\n",
      "---> 1\n",
      "---> 2\n",
      "---> 3\n",
      "---> 4\n",
      "---> 5\n",
      "---> 6\n",
      "---> 7\n",
      "---> 8\n",
      "---> 9\n",
      "61\n",
      "---> 0\n",
      "---> 1\n",
      "---> 2\n",
      "---> 3\n",
      "---> 4\n",
      "---> 5\n",
      "---> 6\n",
      "---> 7\n",
      "---> 8\n",
      "---> 9\n",
      "62\n",
      "---> 0\n",
      "---> 1\n",
      "---> 2\n",
      "---> 3\n",
      "---> 4\n",
      "---> 5\n",
      "---> 6\n",
      "---> 7\n",
      "---> 8\n",
      "---> 9\n",
      "63\n",
      "---> 0\n",
      "---> 1\n",
      "---> 2\n",
      "---> 3\n",
      "---> 4\n",
      "---> 5\n",
      "---> 6\n",
      "---> 7\n",
      "---> 8\n",
      "---> 9\n",
      "64\n",
      "---> 0\n",
      "---> 1\n",
      "---> 2\n",
      "---> 3\n",
      "---> 4\n",
      "---> 5\n",
      "---> 6\n",
      "---> 7\n",
      "---> 8\n",
      "---> 9\n",
      "65\n",
      "---> 0\n",
      "---> 1\n",
      "---> 2\n",
      "---> 3\n",
      "---> 4\n",
      "---> 5\n",
      "---> 6\n",
      "---> 7\n",
      "---> 8\n",
      "---> 9\n",
      "66\n",
      "---> 0\n",
      "---> 1\n",
      "---> 2\n",
      "---> 3\n",
      "---> 4\n",
      "---> 5\n",
      "---> 6\n",
      "---> 7\n",
      "---> 8\n",
      "---> 9\n",
      "67\n",
      "---> 0\n",
      "---> 1\n",
      "---> 2\n",
      "---> 3\n",
      "---> 4\n",
      "---> 5\n",
      "---> 6\n",
      "---> 7\n",
      "---> 8\n",
      "---> 9\n",
      "68\n",
      "---> 0\n",
      "---> 1\n",
      "---> 2\n",
      "---> 3\n",
      "---> 4\n",
      "---> 5\n",
      "---> 6\n",
      "---> 7\n",
      "---> 8\n",
      "---> 9\n",
      "69\n",
      "---> 0\n",
      "---> 1\n",
      "---> 2\n",
      "---> 3\n",
      "---> 4\n",
      "---> 5\n",
      "---> 6\n",
      "---> 7\n",
      "---> 8\n",
      "---> 9\n",
      "70\n",
      "---> 0\n",
      "---> 1\n",
      "---> 2\n",
      "---> 3\n",
      "---> 4\n",
      "---> 5\n",
      "---> 6\n",
      "---> 7\n",
      "---> 8\n",
      "---> 9\n",
      "71\n",
      "---> 0\n",
      "---> 1\n",
      "---> 2\n",
      "---> 3\n",
      "---> 4\n",
      "---> 5\n",
      "---> 6\n",
      "---> 7\n",
      "---> 8\n",
      "---> 9\n",
      "72\n",
      "---> 0\n",
      "---> 1\n",
      "---> 2\n",
      "---> 3\n",
      "---> 4\n",
      "---> 5\n",
      "---> 6\n",
      "---> 7\n",
      "---> 8\n",
      "---> 9\n",
      "73\n",
      "---> 0\n",
      "---> 1\n",
      "---> 2\n",
      "---> 3\n",
      "---> 4\n",
      "---> 5\n",
      "---> 6\n",
      "---> 7\n",
      "---> 8\n",
      "---> 9\n",
      "74\n",
      "---> 0\n",
      "---> 1\n",
      "---> 2\n",
      "---> 3\n",
      "---> 4\n",
      "---> 5\n",
      "---> 6\n",
      "---> 7\n",
      "---> 8\n",
      "---> 9\n",
      "75\n",
      "---> 0\n",
      "---> 1\n",
      "---> 2\n",
      "---> 3\n",
      "---> 4\n",
      "---> 5\n",
      "---> 6\n",
      "---> 7\n",
      "---> 8\n",
      "---> 9\n",
      "76\n",
      "---> 0\n",
      "---> 1\n",
      "---> 2\n",
      "---> 3\n",
      "---> 4\n",
      "---> 5\n",
      "---> 6\n",
      "---> 7\n",
      "---> 8\n",
      "---> 9\n",
      "77\n",
      "---> 0\n"
     ]
    },
    {
     "name": "stderr",
     "output_type": "stream",
     "text": [
      "/anaconda3/lib/python3.6/site-packages/ipykernel/__main__.py:15: RuntimeWarning: divide by zero encountered in log\n"
     ]
    },
    {
     "name": "stdout",
     "output_type": "stream",
     "text": [
      "---> 1\n"
     ]
    },
    {
     "name": "stderr",
     "output_type": "stream",
     "text": [
      "/anaconda3/lib/python3.6/site-packages/ipykernel/__main__.py:15: RuntimeWarning: divide by zero encountered in log\n"
     ]
    },
    {
     "name": "stdout",
     "output_type": "stream",
     "text": [
      "---> 2\n"
     ]
    },
    {
     "name": "stderr",
     "output_type": "stream",
     "text": [
      "/anaconda3/lib/python3.6/site-packages/ipykernel/__main__.py:15: RuntimeWarning: divide by zero encountered in log\n"
     ]
    },
    {
     "name": "stdout",
     "output_type": "stream",
     "text": [
      "---> 3\n"
     ]
    },
    {
     "name": "stderr",
     "output_type": "stream",
     "text": [
      "/anaconda3/lib/python3.6/site-packages/ipykernel/__main__.py:15: RuntimeWarning: divide by zero encountered in log\n"
     ]
    },
    {
     "name": "stdout",
     "output_type": "stream",
     "text": [
      "---> 4\n"
     ]
    },
    {
     "name": "stderr",
     "output_type": "stream",
     "text": [
      "/anaconda3/lib/python3.6/site-packages/ipykernel/__main__.py:15: RuntimeWarning: divide by zero encountered in log\n"
     ]
    },
    {
     "name": "stdout",
     "output_type": "stream",
     "text": [
      "---> 5\n"
     ]
    },
    {
     "name": "stderr",
     "output_type": "stream",
     "text": [
      "/anaconda3/lib/python3.6/site-packages/ipykernel/__main__.py:15: RuntimeWarning: divide by zero encountered in log\n"
     ]
    },
    {
     "name": "stdout",
     "output_type": "stream",
     "text": [
      "---> 6\n"
     ]
    },
    {
     "name": "stderr",
     "output_type": "stream",
     "text": [
      "/anaconda3/lib/python3.6/site-packages/ipykernel/__main__.py:15: RuntimeWarning: divide by zero encountered in log\n"
     ]
    },
    {
     "name": "stdout",
     "output_type": "stream",
     "text": [
      "---> 7\n"
     ]
    },
    {
     "name": "stderr",
     "output_type": "stream",
     "text": [
      "/anaconda3/lib/python3.6/site-packages/ipykernel/__main__.py:15: RuntimeWarning: divide by zero encountered in log\n"
     ]
    },
    {
     "name": "stdout",
     "output_type": "stream",
     "text": [
      "---> 8\n"
     ]
    },
    {
     "name": "stderr",
     "output_type": "stream",
     "text": [
      "/anaconda3/lib/python3.6/site-packages/ipykernel/__main__.py:15: RuntimeWarning: divide by zero encountered in log\n"
     ]
    },
    {
     "name": "stdout",
     "output_type": "stream",
     "text": [
      "---> 9\n"
     ]
    },
    {
     "name": "stderr",
     "output_type": "stream",
     "text": [
      "/anaconda3/lib/python3.6/site-packages/ipykernel/__main__.py:15: RuntimeWarning: divide by zero encountered in log\n"
     ]
    },
    {
     "name": "stdout",
     "output_type": "stream",
     "text": [
      "78\n",
      "---> 0\n"
     ]
    },
    {
     "name": "stderr",
     "output_type": "stream",
     "text": [
      "/anaconda3/lib/python3.6/site-packages/ipykernel/__main__.py:15: RuntimeWarning: divide by zero encountered in log\n"
     ]
    },
    {
     "name": "stdout",
     "output_type": "stream",
     "text": [
      "---> 1\n"
     ]
    },
    {
     "name": "stderr",
     "output_type": "stream",
     "text": [
      "/anaconda3/lib/python3.6/site-packages/ipykernel/__main__.py:15: RuntimeWarning: divide by zero encountered in log\n"
     ]
    },
    {
     "name": "stdout",
     "output_type": "stream",
     "text": [
      "---> 2\n"
     ]
    },
    {
     "name": "stderr",
     "output_type": "stream",
     "text": [
      "/anaconda3/lib/python3.6/site-packages/ipykernel/__main__.py:15: RuntimeWarning: divide by zero encountered in log\n"
     ]
    },
    {
     "name": "stdout",
     "output_type": "stream",
     "text": [
      "---> 3\n"
     ]
    },
    {
     "name": "stderr",
     "output_type": "stream",
     "text": [
      "/anaconda3/lib/python3.6/site-packages/ipykernel/__main__.py:15: RuntimeWarning: divide by zero encountered in log\n"
     ]
    },
    {
     "name": "stdout",
     "output_type": "stream",
     "text": [
      "---> 4\n"
     ]
    },
    {
     "name": "stderr",
     "output_type": "stream",
     "text": [
      "/anaconda3/lib/python3.6/site-packages/ipykernel/__main__.py:15: RuntimeWarning: divide by zero encountered in log\n"
     ]
    },
    {
     "name": "stdout",
     "output_type": "stream",
     "text": [
      "---> 5\n"
     ]
    },
    {
     "name": "stderr",
     "output_type": "stream",
     "text": [
      "/anaconda3/lib/python3.6/site-packages/ipykernel/__main__.py:15: RuntimeWarning: divide by zero encountered in log\n"
     ]
    },
    {
     "name": "stdout",
     "output_type": "stream",
     "text": [
      "---> 6\n"
     ]
    },
    {
     "name": "stderr",
     "output_type": "stream",
     "text": [
      "/anaconda3/lib/python3.6/site-packages/ipykernel/__main__.py:15: RuntimeWarning: divide by zero encountered in log\n"
     ]
    },
    {
     "name": "stdout",
     "output_type": "stream",
     "text": [
      "---> 7\n"
     ]
    },
    {
     "name": "stderr",
     "output_type": "stream",
     "text": [
      "/anaconda3/lib/python3.6/site-packages/ipykernel/__main__.py:15: RuntimeWarning: divide by zero encountered in log\n"
     ]
    },
    {
     "name": "stdout",
     "output_type": "stream",
     "text": [
      "---> 8\n"
     ]
    },
    {
     "name": "stderr",
     "output_type": "stream",
     "text": [
      "/anaconda3/lib/python3.6/site-packages/ipykernel/__main__.py:15: RuntimeWarning: divide by zero encountered in log\n"
     ]
    },
    {
     "name": "stdout",
     "output_type": "stream",
     "text": [
      "---> 9\n"
     ]
    },
    {
     "name": "stderr",
     "output_type": "stream",
     "text": [
      "/anaconda3/lib/python3.6/site-packages/ipykernel/__main__.py:15: RuntimeWarning: divide by zero encountered in log\n"
     ]
    },
    {
     "name": "stdout",
     "output_type": "stream",
     "text": [
      "79\n",
      "---> 0\n",
      "---> 1\n",
      "---> 2\n",
      "---> 3\n",
      "---> 4\n",
      "---> 5\n",
      "---> 6\n",
      "---> 7\n",
      "---> 8\n",
      "---> 9\n",
      "80\n",
      "---> 0\n",
      "---> 1\n",
      "---> 2\n",
      "---> 3\n",
      "---> 4\n",
      "---> 5\n",
      "---> 6\n",
      "---> 7\n",
      "---> 8\n",
      "---> 9\n",
      "81\n",
      "---> 0\n"
     ]
    },
    {
     "name": "stderr",
     "output_type": "stream",
     "text": [
      "/anaconda3/lib/python3.6/site-packages/ipykernel/__main__.py:15: RuntimeWarning: divide by zero encountered in log\n"
     ]
    },
    {
     "name": "stdout",
     "output_type": "stream",
     "text": [
      "---> 1\n"
     ]
    },
    {
     "name": "stderr",
     "output_type": "stream",
     "text": [
      "/anaconda3/lib/python3.6/site-packages/ipykernel/__main__.py:15: RuntimeWarning: divide by zero encountered in log\n"
     ]
    },
    {
     "name": "stdout",
     "output_type": "stream",
     "text": [
      "---> 2\n"
     ]
    },
    {
     "name": "stderr",
     "output_type": "stream",
     "text": [
      "/anaconda3/lib/python3.6/site-packages/ipykernel/__main__.py:15: RuntimeWarning: divide by zero encountered in log\n"
     ]
    },
    {
     "name": "stdout",
     "output_type": "stream",
     "text": [
      "---> 3\n"
     ]
    },
    {
     "name": "stderr",
     "output_type": "stream",
     "text": [
      "/anaconda3/lib/python3.6/site-packages/ipykernel/__main__.py:15: RuntimeWarning: divide by zero encountered in log\n"
     ]
    },
    {
     "name": "stdout",
     "output_type": "stream",
     "text": [
      "---> 4\n"
     ]
    },
    {
     "name": "stderr",
     "output_type": "stream",
     "text": [
      "/anaconda3/lib/python3.6/site-packages/ipykernel/__main__.py:15: RuntimeWarning: divide by zero encountered in log\n"
     ]
    },
    {
     "name": "stdout",
     "output_type": "stream",
     "text": [
      "---> 5\n"
     ]
    },
    {
     "name": "stderr",
     "output_type": "stream",
     "text": [
      "/anaconda3/lib/python3.6/site-packages/ipykernel/__main__.py:15: RuntimeWarning: divide by zero encountered in log\n"
     ]
    },
    {
     "name": "stdout",
     "output_type": "stream",
     "text": [
      "---> 6\n"
     ]
    },
    {
     "name": "stderr",
     "output_type": "stream",
     "text": [
      "/anaconda3/lib/python3.6/site-packages/ipykernel/__main__.py:15: RuntimeWarning: divide by zero encountered in log\n"
     ]
    },
    {
     "name": "stdout",
     "output_type": "stream",
     "text": [
      "---> 7\n"
     ]
    },
    {
     "name": "stderr",
     "output_type": "stream",
     "text": [
      "/anaconda3/lib/python3.6/site-packages/ipykernel/__main__.py:15: RuntimeWarning: divide by zero encountered in log\n"
     ]
    },
    {
     "name": "stdout",
     "output_type": "stream",
     "text": [
      "---> 8\n"
     ]
    },
    {
     "name": "stderr",
     "output_type": "stream",
     "text": [
      "/anaconda3/lib/python3.6/site-packages/ipykernel/__main__.py:15: RuntimeWarning: divide by zero encountered in log\n"
     ]
    },
    {
     "name": "stdout",
     "output_type": "stream",
     "text": [
      "---> 9\n"
     ]
    },
    {
     "name": "stderr",
     "output_type": "stream",
     "text": [
      "/anaconda3/lib/python3.6/site-packages/ipykernel/__main__.py:15: RuntimeWarning: divide by zero encountered in log\n"
     ]
    },
    {
     "name": "stdout",
     "output_type": "stream",
     "text": [
      "82\n",
      "---> 0\n",
      "---> 1\n",
      "---> 2\n",
      "---> 3\n",
      "---> 4\n",
      "---> 5\n",
      "---> 6\n",
      "---> 7\n",
      "---> 8\n",
      "---> 9\n",
      "83\n",
      "---> 0\n"
     ]
    },
    {
     "name": "stderr",
     "output_type": "stream",
     "text": [
      "/anaconda3/lib/python3.6/site-packages/ipykernel/__main__.py:15: RuntimeWarning: divide by zero encountered in log\n"
     ]
    },
    {
     "name": "stdout",
     "output_type": "stream",
     "text": [
      "---> 1\n"
     ]
    },
    {
     "name": "stderr",
     "output_type": "stream",
     "text": [
      "/anaconda3/lib/python3.6/site-packages/ipykernel/__main__.py:15: RuntimeWarning: divide by zero encountered in log\n"
     ]
    },
    {
     "name": "stdout",
     "output_type": "stream",
     "text": [
      "---> 2\n"
     ]
    },
    {
     "name": "stderr",
     "output_type": "stream",
     "text": [
      "/anaconda3/lib/python3.6/site-packages/ipykernel/__main__.py:15: RuntimeWarning: divide by zero encountered in log\n"
     ]
    },
    {
     "name": "stdout",
     "output_type": "stream",
     "text": [
      "---> 3\n"
     ]
    },
    {
     "name": "stderr",
     "output_type": "stream",
     "text": [
      "/anaconda3/lib/python3.6/site-packages/ipykernel/__main__.py:15: RuntimeWarning: divide by zero encountered in log\n"
     ]
    },
    {
     "name": "stdout",
     "output_type": "stream",
     "text": [
      "---> 4\n"
     ]
    },
    {
     "name": "stderr",
     "output_type": "stream",
     "text": [
      "/anaconda3/lib/python3.6/site-packages/ipykernel/__main__.py:15: RuntimeWarning: divide by zero encountered in log\n"
     ]
    },
    {
     "name": "stdout",
     "output_type": "stream",
     "text": [
      "---> 5\n"
     ]
    },
    {
     "name": "stderr",
     "output_type": "stream",
     "text": [
      "/anaconda3/lib/python3.6/site-packages/ipykernel/__main__.py:15: RuntimeWarning: divide by zero encountered in log\n"
     ]
    },
    {
     "name": "stdout",
     "output_type": "stream",
     "text": [
      "---> 6\n"
     ]
    },
    {
     "name": "stderr",
     "output_type": "stream",
     "text": [
      "/anaconda3/lib/python3.6/site-packages/ipykernel/__main__.py:15: RuntimeWarning: divide by zero encountered in log\n"
     ]
    },
    {
     "name": "stdout",
     "output_type": "stream",
     "text": [
      "---> 7\n"
     ]
    },
    {
     "name": "stderr",
     "output_type": "stream",
     "text": [
      "/anaconda3/lib/python3.6/site-packages/ipykernel/__main__.py:15: RuntimeWarning: divide by zero encountered in log\n"
     ]
    },
    {
     "name": "stdout",
     "output_type": "stream",
     "text": [
      "---> 8\n"
     ]
    },
    {
     "name": "stderr",
     "output_type": "stream",
     "text": [
      "/anaconda3/lib/python3.6/site-packages/ipykernel/__main__.py:15: RuntimeWarning: divide by zero encountered in log\n"
     ]
    },
    {
     "name": "stdout",
     "output_type": "stream",
     "text": [
      "---> 9\n"
     ]
    },
    {
     "name": "stderr",
     "output_type": "stream",
     "text": [
      "/anaconda3/lib/python3.6/site-packages/ipykernel/__main__.py:15: RuntimeWarning: divide by zero encountered in log\n"
     ]
    },
    {
     "name": "stdout",
     "output_type": "stream",
     "text": [
      "84\n",
      "---> 0\n",
      "---> 1\n",
      "---> 2\n",
      "---> 3\n",
      "---> 4\n",
      "---> 5\n",
      "---> 6\n",
      "---> 7\n",
      "---> 8\n",
      "---> 9\n",
      "85\n",
      "---> 0\n",
      "---> 1\n",
      "---> 2\n",
      "---> 3\n",
      "---> 4\n",
      "---> 5\n",
      "---> 6\n",
      "---> 7\n",
      "---> 8\n",
      "---> 9\n",
      "86\n",
      "---> 0\n",
      "---> 1\n",
      "---> 2\n",
      "---> 3\n",
      "---> 4\n",
      "---> 5\n",
      "---> 6\n",
      "---> 7\n",
      "---> 8\n",
      "---> 9\n",
      "87\n",
      "---> 0\n",
      "---> 1\n",
      "---> 2\n",
      "---> 3\n",
      "---> 4\n",
      "---> 5\n",
      "---> 6\n",
      "---> 7\n",
      "---> 8\n",
      "---> 9\n",
      "88\n",
      "---> 0\n",
      "---> 1\n",
      "---> 2\n",
      "---> 3\n",
      "---> 4\n",
      "---> 5\n",
      "---> 6\n",
      "---> 7\n",
      "---> 8\n",
      "---> 9\n",
      "89\n",
      "---> 0\n",
      "---> 1\n",
      "---> 2\n",
      "---> 3\n",
      "---> 4\n",
      "---> 5\n",
      "---> 6\n",
      "---> 7\n",
      "---> 8\n",
      "---> 9\n",
      "90\n",
      "---> 0\n",
      "---> 1\n",
      "---> 2\n",
      "---> 3\n",
      "---> 4\n",
      "---> 5\n",
      "---> 6\n",
      "---> 7\n",
      "---> 8\n",
      "---> 9\n",
      "91\n",
      "---> 0\n",
      "---> 1\n",
      "---> 2\n",
      "---> 3\n",
      "---> 4\n",
      "---> 5\n",
      "---> 6\n",
      "---> 7\n",
      "---> 8\n",
      "---> 9\n",
      "92\n",
      "---> 0\n",
      "---> 1\n",
      "---> 2\n",
      "---> 3\n",
      "---> 4\n",
      "---> 5\n",
      "---> 6\n",
      "---> 7\n",
      "---> 8\n",
      "---> 9\n",
      "93\n",
      "---> 0\n",
      "---> 1\n",
      "---> 2\n",
      "---> 3\n",
      "---> 4\n",
      "---> 5\n",
      "---> 6\n",
      "---> 7\n",
      "---> 8\n",
      "---> 9\n",
      "94\n",
      "---> 0\n",
      "---> 1\n",
      "---> 2\n",
      "---> 3\n",
      "---> 4\n",
      "---> 5\n",
      "---> 6\n",
      "---> 7\n",
      "---> 8\n",
      "---> 9\n",
      "95\n",
      "---> 0\n",
      "---> 1\n",
      "---> 2\n",
      "---> 3\n",
      "---> 4\n",
      "---> 5\n",
      "---> 6\n",
      "---> 7\n",
      "---> 8\n",
      "---> 9\n",
      "72743.19065904617\n"
     ]
    }
   ],
   "source": [
    "for neuron in range(n_neurons):\n",
    "    print(neuron)\n",
    "    for rep in range(n_reps):\n",
    "        print('--->', rep)\n",
    "    \n",
    "        # create design and response matrices\n",
    "        X = np.delete(Y, neuron, axis=1)\n",
    "        y = Y[:, neuron]\n",
    "\n",
    "        # split up into train and test set\n",
    "        X_train, X_test, y_train, y_test = train_test_split(X, y, test_size=0.30)\n",
    "\n",
    "        ### create fitting objects ###\n",
    "        lasso = LassoCV(\n",
    "            normalize=True,\n",
    "            cv=10,\n",
    "            max_iter=10000\n",
    "        )\n",
    "\n",
    "        uoi = UoI_Lasso(\n",
    "            normalize=True,\n",
    "            fit_intercept=True,\n",
    "            n_boots_sel=30,\n",
    "            n_boots_est=48,\n",
    "            n_lambdas=50,\n",
    "            estimation_score='r2',\n",
    "            selection_thres_min=1,\n",
    "            n_selection_thres=1\n",
    "        )\n",
    "\n",
    "        ### perform fits ###\n",
    "        lasso.fit(\n",
    "            X_train,\n",
    "            y_train\n",
    "        )\n",
    "\n",
    "        uoi.fit(\n",
    "            X_train,\n",
    "            y_train\n",
    "        )\n",
    "    \n",
    "        ### store fits ###\n",
    "        coupling_coefs_lasso[neuron, rep, :] = np.insert(lasso.coef_, neuron, 0.)\n",
    "        coupling_coefs_uoi[neuron, rep, :] = np.insert(uoi.coef_, neuron, 0.)\n",
    "        \n",
    "        intercepts_lasso[neuron, rep] = lasso.intercept_\n",
    "        intercepts_uoi[neuron, rep] = uoi.intercept_\n",
    "\n",
    "        ### scoring ###\n",
    "        y_pred_lasso = lasso.intercept_ + np.dot(X_test, lasso.coef_)\n",
    "        r2_lasso[neuron, rep] = r2_score(y_test, y_pred_lasso)\n",
    "        bic_lasso[neuron, rep] = BIC(y_test, y_pred_lasso, np.count_nonzero(lasso.coef_) + 1)\n",
    "        \n",
    "        y_pred_uoi = uoi.intercept_ + np.dot(X_test, uoi.coef_)\n",
    "        r2_uoi[neuron, rep] = r2_score(y_test, y_pred_uoi)\n",
    "        bic_uoi[neuron, rep] = BIC(y_test, y_pred_uoi, np.count_nonzero(uoi.coef_) + 1)"
   ]
  }
 ],
 "metadata": {
  "kernelspec": {
   "display_name": "Python [conda env:anaconda3]",
   "language": "python",
   "name": "conda-env-anaconda3-py"
  },
  "language_info": {
   "codemirror_mode": {
    "name": "ipython",
    "version": 3
   },
   "file_extension": ".py",
   "mimetype": "text/x-python",
   "name": "python",
   "nbconvert_exporter": "python",
   "pygments_lexer": "ipython3",
   "version": "3.6.5"
  },
  "varInspector": {
   "cols": {
    "lenName": 16,
    "lenType": 16,
    "lenVar": 40
   },
   "kernels_config": {
    "python": {
     "delete_cmd_postfix": "",
     "delete_cmd_prefix": "del ",
     "library": "var_list.py",
     "varRefreshCmd": "print(var_dic_list())"
    },
    "r": {
     "delete_cmd_postfix": ") ",
     "delete_cmd_prefix": "rm(",
     "library": "var_list.r",
     "varRefreshCmd": "cat(var_dic_list()) "
    }
   },
   "types_to_exclude": [
    "module",
    "function",
    "builtin_function_or_method",
    "instance",
    "_Feature"
   ],
   "window_display": false
  }
 },
 "nbformat": 4,
 "nbformat_minor": 2
}
